{
  "nbformat": 4,
  "nbformat_minor": 0,
  "metadata": {
    "colab": {
      "provenance": [],
      "authorship_tag": "ABX9TyMgtA2MM0RJNP+I/Q8OzvPk",
      "include_colab_link": true
    },
    "kernelspec": {
      "name": "python3",
      "display_name": "Python 3"
    },
    "language_info": {
      "name": "python"
    }
  },
  "cells": [
    {
      "cell_type": "markdown",
      "metadata": {
        "id": "view-in-github",
        "colab_type": "text"
      },
      "source": [
        "<a href=\"https://colab.research.google.com/github/KfirCohen-PyLab/Cloud-Computing-Elephant-team/blob/nikita/targil1.ipynb\" target=\"_parent\"><img src=\"https://colab.research.google.com/assets/colab-badge.svg\" alt=\"Open In Colab\"/></a>"
      ]
    },
    {
      "cell_type": "code",
      "execution_count": 30,
      "metadata": {
        "colab": {
          "base_uri": "https://localhost:8080/"
        },
        "id": "9ltNqAlC3Ngz",
        "outputId": "381ccdf1-5e53-4885-dd51-2c573db144b2"
      },
      "outputs": [
        {
          "output_type": "stream",
          "name": "stdout",
          "text": [
            "Choose a name, please.\n"
          ]
        }
      ],
      "source": [
        "import ipywidgets as widgets\n",
        "from IPython.display import display\n",
        "names = 'empty'  #@param [\"empty\", \"nikita\", \"kfir\", \"ido\", \"eitan\", \"daniel\", \"elias\"]\n",
        "\n",
        "if names == \"empty\":\n",
        "    print(\"Choose a name, please.\")\n",
        "else:\n",
        "    found = False\n",
        "    with open(\"students.txt\", \"r\") as file:\n",
        "        for line in file:\n",
        "            if line.lower().startswith(names):\n",
        "                found = True\n",
        "                parts = line.split()\n",
        "\n",
        "                name_parts = []\n",
        "                for part in parts:\n",
        "                    if \"@\" in part:\n",
        "                        break\n",
        "                    name_parts.append(part)\n",
        "\n",
        "                full_name = \" \".join(name_parts)\n",
        "                email = parts[len(name_parts)]\n",
        "                interests = \" \".join(parts[len(name_parts) + 1:-1]).split(\", \")\n",
        "                interests = \", \".join(interests)\n",
        "                link = parts[-1]\n",
        "\n",
        "                full_name_widget = widgets.Text(value=full_name, description='Full Name:', disabled=True, layout=widgets.Layout(width='500px'))\n",
        "                email_widget = widgets.Text(value=email, description='Email:', disabled=True, layout=widgets.Layout(width='500px'))\n",
        "                interests_widget = widgets.Text(value=interests, description='Courses:', disabled=True, layout=widgets.Layout(width='500px'))\n",
        "                link_widget = widgets.HTML(value=f'<a href=\"{link}\" target=\"_blank\">{link}</a>', description=\"Link:\")\n",
        "                display(full_name_widget, email_widget, interests_widget, link_widget)\n",
        "                break"
      ]
    }
  ]
}