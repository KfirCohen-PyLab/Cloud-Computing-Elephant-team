{
  "nbformat": 4,
  "nbformat_minor": 0,
  "metadata": {
    "colab": {
      "provenance": [],
      "toc_visible": true,
      "authorship_tag": "ABX9TyN1UDgNWC2EGEZG6mY6lp45",
      "include_colab_link": true
    },
    "kernelspec": {
      "name": "python3",
      "display_name": "Python 3"
    },
    "language_info": {
      "name": "python"
    }
  },
  "cells": [
    {
      "cell_type": "markdown",
      "metadata": {
        "id": "view-in-github",
        "colab_type": "text"
      },
      "source": [
        "<a href=\"https://colab.research.google.com/github/KfirCohen-PyLab/Cloud-Computing-Elephant-team/blob/main/Lab4.ipynb\" target=\"_parent\"><img src=\"https://colab.research.google.com/assets/colab-badge.svg\" alt=\"Open In Colab\"/></a>"
      ]
    },
    {
      "cell_type": "code",
      "execution_count": null,
      "metadata": {
        "id": "lQhUaCPH6Kif"
      },
      "outputs": [],
      "source": [
        "url = 'https://data.gov.il/api/3/action/datastore_search?resource_id=053cea08-09bc-40ec-8f7a-156f0677aff3'\n",
        "\n",
        "import requests\n",
        "import pandas as pd\n",
        "from ipywidgets import widgets, VBox, Output\n",
        "from IPython.display import display\n",
        "from matplotlib import pyplot as plt\n",
        "import seaborn as sns\n",
        "import numpy as np\n",
        "\n",
        "pd.set_option(\"display.max_columns\", None)\n",
        "\n",
        "response = requests.get(url)\n",
        "data = response.json()\n",
        "df = pd.DataFrame(data)\n",
        "data_df = pd.DataFrame(data['result']['records'])"
      ]
    },
    {
      "cell_type": "markdown",
      "source": [
        "# Selection"
      ],
      "metadata": {
        "id": "HzTMq6JaOwmQ"
      }
    },
    {
      "cell_type": "code",
      "source": [
        "output_area = Output()\n",
        "\n",
        "# Create widgets\n",
        "tozeret_nm_dropdown = widgets.Dropdown(\n",
        "    options=[''] + sorted(data_df['tozeret_nm'].unique().tolist()),\n",
        "    description='Tozeret:',\n",
        "    style={'description_width': 'initial'}\n",
        ")\n",
        "kinuy_mishari_dropdown = widgets.Dropdown(\n",
        "    options=[''],\n",
        "    description='Kinuy Mishari:',\n",
        "    style={'description_width': 'initial'}\n",
        ")\n",
        "# Function to update the second dropdown based on the selection of the first\n",
        "def update_kinuy_mishari_options(change):\n",
        "    if change['new']:  # Check if a valid option is selected\n",
        "        filtered_values = data_df[data_df['tozeret_nm'] == change['new']]['kinuy_mishari'].unique()\n",
        "        kinuy_mishari_dropdown.options = [''] + sorted(filtered_values)\n",
        "    else:\n",
        "        kinuy_mishari_dropdown.options = ['']\n",
        "\n",
        "# Function to update the output area with the total records and unique 'ramat_gimur' values\n",
        "def update_output(change=None):\n",
        "    output_area.clear_output()\n",
        "    selected_tozeret = tozeret_nm_dropdown.value\n",
        "    selected_kinuy = kinuy_mishari_dropdown.value\n",
        "    if selected_tozeret and selected_kinuy:\n",
        "        filtered_df = data_df[\n",
        "            (data_df['tozeret_nm'] == selected_tozeret) &\n",
        "            (data_df['kinuy_mishari'] == selected_kinuy)\n",
        "        ]\n",
        "        total_records = len(filtered_df)\n",
        "        unique_ramat_gimur = filtered_df['ramat_gimur'].unique()\n",
        "        with output_area:\n",
        "            print(f\"Total Records: {total_records}\")\n",
        "            print(f\"Unique Ramat Gimur: {', '.join(unique_ramat_gimur) if len(unique_ramat_gimur) > 0 else 'None'}\")\n",
        "    else:\n",
        "        with output_area:\n",
        "            print(\"Please select valid options for both dropdowns.\")\n",
        "\n",
        "# Observe changes in both dropdowns\n",
        "tozeret_nm_dropdown.observe(update_kinuy_mishari_options, names='value')\n",
        "kinuy_mishari_dropdown.observe(update_output, names='value')\n",
        "\n",
        "display(VBox([tozeret_nm_dropdown, kinuy_mishari_dropdown, output_area]))"
      ],
      "metadata": {
        "id": "4Vrov6FlPIbk"
      },
      "execution_count": null,
      "outputs": []
    },
    {
      "cell_type": "markdown",
      "source": [
        "# Data"
      ],
      "metadata": {
        "id": "UBDeoyl8OxCC"
      }
    },
    {
      "cell_type": "code",
      "source": [
        "tab1_content = widgets.Output()\n",
        "with tab1_content:\n",
        "    print(\"Data Overview:\")\n",
        "    display(data_df.describe())  # Summary statistics\n",
        "\n",
        "# Tab 2: Raw Data\n",
        "tab2_content = widgets.Output()\n",
        "with tab2_content:\n",
        "    print(\"Raw Data:\")\n",
        "    display(data_df)  # Full DataFrame\n",
        "\n",
        "# Tab 3: Charts\n",
        "tab3_content = widgets.Output()\n",
        "with tab3_content:\n",
        "    year_freq = data_df['shnat_yitzur'].value_counts().sort_index()\n",
        "    year_freq.plot(kind='bar')\n",
        "    plt.title('Count of Shnat Yitzur')\n",
        "    plt.xlabel('Shnat Yitzur')\n",
        "    plt.ylabel('Frequency')\n",
        "    plt.show()\n",
        "\n",
        "\n",
        "tabs = widgets.Tab(children = [tab1_content, tab2_content, tab3_content])\n",
        "tabs.set_title(0, 'Data Overview')\n",
        "tabs.set_title(1, 'Raw Data')\n",
        "tabs.set_title(2, 'Year Count')\n",
        "\n",
        "# Display widgets and output area\n",
        "display(tabs)"
      ],
      "metadata": {
        "id": "gRRCMFKHO-iF"
      },
      "execution_count": null,
      "outputs": []
    }
  ]
}