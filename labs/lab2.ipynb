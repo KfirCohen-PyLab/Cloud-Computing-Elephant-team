{
  "nbformat": 4,
  "nbformat_minor": 0,
  "metadata": {
    "colab": {
      "provenance": [],
      "mount_file_id": "1FE-HDiRax64hRFv2C7NJUBAB2XV-wI1o",
      "authorship_tag": "ABX9TyO9pbuOPcL7k8CcQ08nOlmn"
    },
    "kernelspec": {
      "name": "python3",
      "display_name": "Python 3"
    },
    "language_info": {
      "name": "python"
    },
    "widgets": {
      "application/vnd.jupyter.widget-state+json": {
        "41df67a45091486dade8ffde01b53e2a": {
          "model_module": "@jupyter-widgets/controls",
          "model_name": "DropdownModel",
          "model_module_version": "1.5.0",
          "state": {
            "_dom_classes": [],
            "_model_module": "@jupyter-widgets/controls",
            "_model_module_version": "1.5.0",
            "_model_name": "DropdownModel",
            "_options_labels": [
              "nikita",
              "kfir",
              "ido",
              "eitan",
              "daniel",
              "elias"
            ],
            "_view_count": null,
            "_view_module": "@jupyter-widgets/controls",
            "_view_module_version": "1.5.0",
            "_view_name": "DropdownView",
            "description": "Student:",
            "description_tooltip": null,
            "disabled": false,
            "index": null,
            "layout": "IPY_MODEL_80c3d8834a5b4a3d8e4cbbff8ad93f8f",
            "style": "IPY_MODEL_b326b88f217743829f2928c188e3e5d0"
          }
        },
        "80c3d8834a5b4a3d8e4cbbff8ad93f8f": {
          "model_module": "@jupyter-widgets/base",
          "model_name": "LayoutModel",
          "model_module_version": "1.2.0",
          "state": {
            "_model_module": "@jupyter-widgets/base",
            "_model_module_version": "1.2.0",
            "_model_name": "LayoutModel",
            "_view_count": null,
            "_view_module": "@jupyter-widgets/base",
            "_view_module_version": "1.2.0",
            "_view_name": "LayoutView",
            "align_content": null,
            "align_items": null,
            "align_self": null,
            "border": null,
            "bottom": null,
            "display": null,
            "flex": null,
            "flex_flow": null,
            "grid_area": null,
            "grid_auto_columns": null,
            "grid_auto_flow": null,
            "grid_auto_rows": null,
            "grid_column": null,
            "grid_gap": null,
            "grid_row": null,
            "grid_template_areas": null,
            "grid_template_columns": null,
            "grid_template_rows": null,
            "height": null,
            "justify_content": null,
            "justify_items": null,
            "left": null,
            "margin": null,
            "max_height": null,
            "max_width": null,
            "min_height": null,
            "min_width": null,
            "object_fit": null,
            "object_position": null,
            "order": null,
            "overflow": null,
            "overflow_x": null,
            "overflow_y": null,
            "padding": null,
            "right": null,
            "top": null,
            "visibility": null,
            "width": null
          }
        },
        "b326b88f217743829f2928c188e3e5d0": {
          "model_module": "@jupyter-widgets/controls",
          "model_name": "DescriptionStyleModel",
          "model_module_version": "1.5.0",
          "state": {
            "_model_module": "@jupyter-widgets/controls",
            "_model_module_version": "1.5.0",
            "_model_name": "DescriptionStyleModel",
            "_view_count": null,
            "_view_module": "@jupyter-widgets/base",
            "_view_module_version": "1.2.0",
            "_view_name": "StyleView",
            "description_width": ""
          }
        }
      }
    }
  },
  "cells": [
    {
      "cell_type": "code",
      "execution_count": null,
      "metadata": {
        "id": "B6TLRSJlsjjl"
      },
      "outputs": [],
      "source": []
    },
    {
      "cell_type": "code",
      "source": [
        "import ipywidgets as widgets\n",
        "from IPython.display import display, clear_output\n",
        "import json\n",
        "\n",
        "with open('drive/MyDrive/Cloud/students.json', 'r') as fid:\n",
        "  students_data = json.load(fid)\n",
        "\n",
        "dropdown_value = None\n",
        "\n",
        "# Make dropdown to choose student\n",
        "def make_dropdown():\n",
        "  chosen_student = widgets.Dropdown(\n",
        "      options=students_data.keys(),\n",
        "      value=dropdown_value,\n",
        "      description='Student:',\n",
        "  )\n",
        "\n",
        "  chosen_student.observe(on_change_student)\n",
        "  display(chosen_student)\n",
        "\n",
        "# Save the student data\n",
        "def save_student(b):\n",
        "  with open('drive/MyDrive/Cloud/students.json', 'w') as fid:\n",
        "    json.dump(students_data, fid, indent=4)\n",
        "\n",
        "# Change the current student's favorite show in the students data dictionary\n",
        "def change_student_show(change):\n",
        "    if change['type'] == 'change' and change['name'] == 'value':\n",
        "      students_data[dropdown_value]['favorite_show'] = change['new']\n",
        "\n",
        "# Change current student\n",
        "def on_change_student(change):\n",
        "    if change['type'] == 'change' and change['name'] == 'value':\n",
        "        render_student(change['new'])\n",
        "\n",
        "# Renders the currently selected student\n",
        "def render_student(name):\n",
        "  global dropdown_value\n",
        "\n",
        "  dropdown_value = name\n",
        "  clear_output(wait=True)\n",
        "  make_dropdown()\n",
        "\n",
        "  if name == None:\n",
        "      print(\"Choose a name, please.\")\n",
        "      return\n",
        "\n",
        "  student = students_data[name]\n",
        "  if student:\n",
        "    full_name = student['first_name'] + \" \" + student['last_name']\n",
        "\n",
        "    # Make widegets\n",
        "    full_name_widget = widgets.Text(value=full_name, description='Full Name:', disabled=True, layout=widgets.Layout(width='500px'))\n",
        "    email_widget = widgets.Text(value=student['email'], description='Email:', disabled=True, layout=widgets.Layout(width='500px'))\n",
        "    favorite_show_widget = widgets.Text(value=student['favorite_show'], description='Show:', layout=widgets.Layout(width='500px'))\n",
        "    link_widget = widgets.HTML(value=student['link'], description=\"Link:\")\n",
        "\n",
        "    # Listen to changes in the faovrite show widget\n",
        "    favorite_show_widget.observe(change_student_show)\n",
        "\n",
        "    # Save button\n",
        "    save_button = widgets.Button(description=\"Save\")\n",
        "    save_button.on_click(save_student)\n",
        "\n",
        "    # Display them all\n",
        "    display(full_name_widget, email_widget, link_widget, favorite_show_widget, save_button)\n",
        "\n",
        "render_student(dropdown_value)"
      ],
      "metadata": {
        "colab": {
          "base_uri": "https://localhost:8080/",
          "height": 66,
          "referenced_widgets": [
            "41df67a45091486dade8ffde01b53e2a",
            "80c3d8834a5b4a3d8e4cbbff8ad93f8f",
            "b326b88f217743829f2928c188e3e5d0"
          ]
        },
        "id": "JUhfQAUUspHg",
        "outputId": "ff611cd5-721d-4b8c-8b50-483aa42e58bf"
      },
      "execution_count": 55,
      "outputs": [
        {
          "output_type": "display_data",
          "data": {
            "text/plain": [
              "Dropdown(description='Student:', options=('nikita', 'kfir', 'ido', 'eitan', 'daniel', 'elias'), value=None)"
            ],
            "application/vnd.jupyter.widget-view+json": {
              "version_major": 2,
              "version_minor": 0,
              "model_id": "41df67a45091486dade8ffde01b53e2a"
            }
          },
          "metadata": {}
        },
        {
          "output_type": "stream",
          "name": "stdout",
          "text": [
            "Choose a name, please.\n"
          ]
        }
      ]
    },
    {
      "cell_type": "code",
      "source": [
        "\n"
      ],
      "metadata": {
        "id": "l7COGmmxhJxW"
      },
      "execution_count": null,
      "outputs": []
    }
  ]
}