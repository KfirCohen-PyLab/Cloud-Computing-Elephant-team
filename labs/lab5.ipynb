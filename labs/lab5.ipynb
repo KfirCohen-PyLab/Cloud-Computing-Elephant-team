{
  "nbformat": 4,
  "nbformat_minor": 0,
  "metadata": {
    "colab": {
      "provenance": [],
      "authorship_tag": "ABX9TyMMunU0M8flJsrwtgY9ssGm",
      "include_colab_link": true
    },
    "kernelspec": {
      "name": "python3",
      "display_name": "Python 3"
    },
    "language_info": {
      "name": "python"
    }
  },
  "cells": [
    {
      "cell_type": "markdown",
      "metadata": {
        "id": "view-in-github",
        "colab_type": "text"
      },
      "source": [
        "<a href=\"https://colab.research.google.com/github/KfirCohen-PyLab/Cloud-Computing-Elephant-team/blob/main/lab5.ipynb\" target=\"_parent\"><img src=\"https://colab.research.google.com/assets/colab-badge.svg\" alt=\"Open In Colab\"/></a>"
      ]
    },
    {
      "cell_type": "code",
      "source": [
        "!pip install firebase"
      ],
      "metadata": {
        "colab": {
          "base_uri": "https://localhost:8080/"
        },
        "id": "WjY8bhPpxn3s",
        "outputId": "7ddf595b-1a99-41bc-f8cc-748ea0b963b6"
      },
      "execution_count": 2,
      "outputs": [
        {
          "output_type": "stream",
          "name": "stdout",
          "text": [
            "Collecting firebase\n",
            "  Downloading firebase-4.0.1-py3-none-any.whl.metadata (6.5 kB)\n",
            "Requirement already satisfied: requests in /usr/local/lib/python3.11/dist-packages (from firebase) (2.32.3)\n",
            "Requirement already satisfied: charset-normalizer<4,>=2 in /usr/local/lib/python3.11/dist-packages (from requests->firebase) (3.4.1)\n",
            "Requirement already satisfied: idna<4,>=2.5 in /usr/local/lib/python3.11/dist-packages (from requests->firebase) (3.10)\n",
            "Requirement already satisfied: urllib3<3,>=1.21.1 in /usr/local/lib/python3.11/dist-packages (from requests->firebase) (2.4.0)\n",
            "Requirement already satisfied: certifi>=2017.4.17 in /usr/local/lib/python3.11/dist-packages (from requests->firebase) (2025.4.26)\n",
            "Downloading firebase-4.0.1-py3-none-any.whl (12 kB)\n",
            "Installing collected packages: firebase\n",
            "Successfully installed firebase-4.0.1\n"
          ]
        }
      ]
    },
    {
      "cell_type": "code",
      "source": [
        "from firebase import firebase\n",
        "FBconn = firebase.FirebaseApplication('https://your-firebase-link.firebaseio.com/', None)"
      ],
      "metadata": {
        "id": "ESQ-75T1xtBO"
      },
      "execution_count": 4,
      "outputs": []
    },
    {
      "cell_type": "code",
      "execution_count": null,
      "metadata": {
        "colab": {
          "base_uri": "https://localhost:8080/"
        },
        "id": "Kgtdhg2Twxpw",
        "outputId": "f7df15dc-a537-4ab2-8cc8-bb63eb37e880"
      },
      "outputs": [
        {
          "output_type": "stream",
          "name": "stdout",
          "text": [
            "1. Add single word\n",
            "2. Add text for analysis\n",
            "3. Update word count\n",
            "4. Delete word\n",
            "5. View all words\n",
            "6. Exit\n",
            "Enter your choice (1-6): 1\n",
            "Enter word: hi\n",
            "\n",
            "\n",
            "1. Add single word\n",
            "2. Add text for analysis\n",
            "3. Update word count\n",
            "4. Delete word\n",
            "5. View all words\n",
            "6. Exit\n",
            "Enter your choice (1-6): 2\n",
            "Enter text: hi github\n",
            "\n",
            "\n",
            "1. Add single word\n",
            "2. Add text for analysis\n",
            "3. Update word count\n",
            "4. Delete word\n",
            "5. View all words\n",
            "6. Exit\n",
            "Enter your choice (1-6): 5\n",
            "Elias:2, github:1, hello:2, hi:7, world:1\n",
            "\n",
            "\n",
            "1. Add single word\n",
            "2. Add text for analysis\n",
            "3. Update word count\n",
            "4. Delete word\n",
            "5. View all words\n",
            "6. Exit\n"
          ]
        }
      ],
      "source": [
        "# Get word from database\n",
        "def get_word(word):\n",
        "  return FBconn.get(f'/words/{word}', None)\n",
        "\n",
        "# Add word or increment count if exists\n",
        "def add_word(word):\n",
        "  word_data = get_word(word)\n",
        "  FBconn.put(f'/words/{word}', 'count', word_data['count'] + 1 if word_data else 1)\n",
        "\n",
        "while True:\n",
        "  # Print menu\n",
        "  print('1. Add single word')\n",
        "  print('2. Add text for analysis')\n",
        "  print('3. Update word count')\n",
        "  print('4. Delete word')\n",
        "  print('5. View all words')\n",
        "  print('6. Exit')\n",
        "\n",
        "  choice = input('Enter your choice (1-6): ')\n",
        "\n",
        "  match choice:\n",
        "    case '1':\n",
        "      word = input('Enter word: ')\n",
        "      if (word.find(' ') != -1):\n",
        "        print('Invalid word')\n",
        "      else:\n",
        "        add_word(word)\n",
        "      pass\n",
        "    case '2':\n",
        "      for word in input('Enter text: ').split():\n",
        "        add_word(word)\n",
        "      pass\n",
        "    case '3':\n",
        "      word = input('Enter word: ')\n",
        "      count = int(input('Enter count: '))\n",
        "      FBconn.put(f'/words/{word}', 'count', count)\n",
        "      pass\n",
        "    case '4':\n",
        "      word = input('Enter word: ')\n",
        "      # FBconn.delete(f'/words/{word}', None)\n",
        "      FBconn.delete('/words/', word)\n",
        "      pass\n",
        "    case '5':\n",
        "      words = FBconn.get('words', None)\n",
        "\n",
        "      print_data = []\n",
        "      for word, word_data in words.items():\n",
        "        count = word_data['count']\n",
        "        print_data.append(f'{word}:{count}')\n",
        "      print(', '.join(print_data))\n",
        "\n",
        "      pass\n",
        "    case '6':\n",
        "      break\n",
        "    case _:\n",
        "      print('Invalid choice')\n",
        "\n",
        "  print('\\n')"
      ]
    }
  ]
}